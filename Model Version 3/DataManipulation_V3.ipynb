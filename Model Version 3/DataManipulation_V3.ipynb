{
 "cells": [
  {
   "cell_type": "markdown",
   "metadata": {},
   "source": [
    "## PURPOSE OF THIS NOTEBOOK:  \n",
    "  \n",
    "This notebook takes in a dataframe and transforms the data to be a format that Llama expects. We are expecing 3 columns:  \n",
    "  \n",
    "***Instruction***  \n",
    "***Input***  \n",
    "***Output***  \n",
    "  \n",
    "I would want to create 2 versions of this, One version that focuses on telling it to classify which ONET family it belongs too, and another one that will focus on the specific ONET, which will need to be formatted in a special manner (maybe another column for each ONET family where we can paste a formatted version that includes all the onet names)."
   ]
  },
  {
   "cell_type": "code",
   "execution_count": 9,
   "metadata": {},
   "outputs": [],
   "source": [
    "import pandas as pd\n",
    "import numpy as np\n",
    "import csv"
   ]
  },
  {
   "cell_type": "markdown",
   "metadata": {},
   "source": [
    "## Import the orignal data to create new Train/Test Data\n",
    "  \n",
    "To make creating the train/test quite easy, I can "
   ]
  },
  {
   "cell_type": "code",
   "execution_count": 38,
   "metadata": {},
   "outputs": [
    {
     "name": "stdout",
     "output_type": "stream",
     "text": [
      "(44545, 2)\n"
     ]
    },
    {
     "data": {
      "text/html": [
       "<div>\n",
       "<style scoped>\n",
       "    .dataframe tbody tr th:only-of-type {\n",
       "        vertical-align: middle;\n",
       "    }\n",
       "\n",
       "    .dataframe tbody tr th {\n",
       "        vertical-align: top;\n",
       "    }\n",
       "\n",
       "    .dataframe thead th {\n",
       "        text-align: right;\n",
       "    }\n",
       "</style>\n",
       "<table border=\"1\" class=\"dataframe\">\n",
       "  <thead>\n",
       "    <tr style=\"text-align: right;\">\n",
       "      <th></th>\n",
       "      <th>O*NET-SOC Code</th>\n",
       "      <th>Reported Job Title</th>\n",
       "    </tr>\n",
       "  </thead>\n",
       "  <tbody>\n",
       "    <tr>\n",
       "      <th>0</th>\n",
       "      <td>11-1011.00</td>\n",
       "      <td>Chief Diversity Officer (CDO)</td>\n",
       "    </tr>\n",
       "    <tr>\n",
       "      <th>1</th>\n",
       "      <td>11-1011.00</td>\n",
       "      <td>Chief Executive Officer (CEO)</td>\n",
       "    </tr>\n",
       "    <tr>\n",
       "      <th>2</th>\n",
       "      <td>11-1011.00</td>\n",
       "      <td>Chief Financial Officer (CFO)</td>\n",
       "    </tr>\n",
       "    <tr>\n",
       "      <th>3</th>\n",
       "      <td>11-1011.00</td>\n",
       "      <td>Chief Nursing Officer</td>\n",
       "    </tr>\n",
       "    <tr>\n",
       "      <th>4</th>\n",
       "      <td>11-1011.00</td>\n",
       "      <td>Chief Operating Officer (COO)</td>\n",
       "    </tr>\n",
       "  </tbody>\n",
       "</table>\n",
       "</div>"
      ],
      "text/plain": [
       "  O*NET-SOC Code             Reported Job Title\n",
       "0     11-1011.00  Chief Diversity Officer (CDO)\n",
       "1     11-1011.00  Chief Executive Officer (CEO)\n",
       "2     11-1011.00  Chief Financial Officer (CFO)\n",
       "3     11-1011.00          Chief Nursing Officer\n",
       "4     11-1011.00  Chief Operating Officer (COO)"
      ]
     },
     "execution_count": 38,
     "metadata": {},
     "output_type": "execute_result"
    }
   ],
   "source": [
    "# Start by loading in the data. \n",
    "onet_df = pd.read_csv(\"../Data/Updated_ONET_Alt_Titles.csv\")\n",
    "base_onet_df = pd.read_csv(\"../Data/Occupation Data.csv\")\n",
    "\n",
    "# Filter out any columns we don't need. \n",
    "onet_filtered = onet_df[['O*NET-SOC Code', 'Reported Job Title']]\n",
    "\n",
    "# Show the filtered data\n",
    "print(onet_filtered.shape)\n",
    "onet_filtered.head()"
   ]
  },
  {
   "cell_type": "code",
   "execution_count": 40,
   "metadata": {},
   "outputs": [],
   "source": [
    "# remove the military onet codes. \n",
    "base_onet_df = base_onet_df[~base_onet_df['O*NET-SOC Code'].str[:2].isin(['55'])]\n",
    "onet_filtered = onet_filtered[~onet_filtered['O*NET-SOC Code'].str[:2].isin(['55'])]"
   ]
  },
  {
   "cell_type": "code",
   "execution_count": 41,
   "metadata": {},
   "outputs": [],
   "source": [
    "# Create the Family group Column\n",
    "base_onet_df['O*NET-SOC Group'] = base_onet_df['O*NET-SOC Code'].str[:2]\n",
    "onet_filtered['O*NET-SOC Group'] = onet_filtered['O*NET-SOC Code'].str[:2]\n",
    "\n",
    "# Filter out the SOC codes "
   ]
  },
  {
   "cell_type": "code",
   "execution_count": 46,
   "metadata": {},
   "outputs": [
    {
     "data": {
      "text/html": [
       "<div>\n",
       "<style scoped>\n",
       "    .dataframe tbody tr th:only-of-type {\n",
       "        vertical-align: middle;\n",
       "    }\n",
       "\n",
       "    .dataframe tbody tr th {\n",
       "        vertical-align: top;\n",
       "    }\n",
       "\n",
       "    .dataframe thead th {\n",
       "        text-align: right;\n",
       "    }\n",
       "</style>\n",
       "<table border=\"1\" class=\"dataframe\">\n",
       "  <thead>\n",
       "    <tr style=\"text-align: right;\">\n",
       "      <th></th>\n",
       "      <th>O*NET-SOC Code</th>\n",
       "      <th>Reported Job Title</th>\n",
       "      <th>O*NET-SOC Group</th>\n",
       "    </tr>\n",
       "  </thead>\n",
       "  <tbody>\n",
       "    <tr>\n",
       "      <th>0</th>\n",
       "      <td>11-1011.00</td>\n",
       "      <td>Chief Diversity Officer (CDO)</td>\n",
       "      <td>11</td>\n",
       "    </tr>\n",
       "    <tr>\n",
       "      <th>1</th>\n",
       "      <td>11-1011.00</td>\n",
       "      <td>Chief Executive Officer (CEO)</td>\n",
       "      <td>11</td>\n",
       "    </tr>\n",
       "    <tr>\n",
       "      <th>2</th>\n",
       "      <td>11-1011.00</td>\n",
       "      <td>Chief Financial Officer (CFO)</td>\n",
       "      <td>11</td>\n",
       "    </tr>\n",
       "    <tr>\n",
       "      <th>3</th>\n",
       "      <td>11-1011.00</td>\n",
       "      <td>Chief Nursing Officer</td>\n",
       "      <td>11</td>\n",
       "    </tr>\n",
       "    <tr>\n",
       "      <th>4</th>\n",
       "      <td>11-1011.00</td>\n",
       "      <td>Chief Operating Officer (COO)</td>\n",
       "      <td>11</td>\n",
       "    </tr>\n",
       "    <tr>\n",
       "      <th>...</th>\n",
       "      <td>...</td>\n",
       "      <td>...</td>\n",
       "      <td>...</td>\n",
       "    </tr>\n",
       "    <tr>\n",
       "      <th>43946</th>\n",
       "      <td>53-7199.00</td>\n",
       "      <td>Water Hauler</td>\n",
       "      <td>53</td>\n",
       "    </tr>\n",
       "    <tr>\n",
       "      <th>43947</th>\n",
       "      <td>53-7199.00</td>\n",
       "      <td>Windlasser</td>\n",
       "      <td>53</td>\n",
       "    </tr>\n",
       "    <tr>\n",
       "      <th>43948</th>\n",
       "      <td>53-7199.00</td>\n",
       "      <td>Wire Wheeler</td>\n",
       "      <td>53</td>\n",
       "    </tr>\n",
       "    <tr>\n",
       "      <th>43949</th>\n",
       "      <td>53-7199.00</td>\n",
       "      <td>Yarn Man</td>\n",
       "      <td>53</td>\n",
       "    </tr>\n",
       "    <tr>\n",
       "      <th>43950</th>\n",
       "      <td>53-7199.00</td>\n",
       "      <td>Yarn Worker</td>\n",
       "      <td>53</td>\n",
       "    </tr>\n",
       "  </tbody>\n",
       "</table>\n",
       "<p>43951 rows × 3 columns</p>\n",
       "</div>"
      ],
      "text/plain": [
       "      O*NET-SOC Code             Reported Job Title O*NET-SOC Group\n",
       "0         11-1011.00  Chief Diversity Officer (CDO)              11\n",
       "1         11-1011.00  Chief Executive Officer (CEO)              11\n",
       "2         11-1011.00  Chief Financial Officer (CFO)              11\n",
       "3         11-1011.00          Chief Nursing Officer              11\n",
       "4         11-1011.00  Chief Operating Officer (COO)              11\n",
       "...              ...                            ...             ...\n",
       "43946     53-7199.00                   Water Hauler              53\n",
       "43947     53-7199.00                     Windlasser              53\n",
       "43948     53-7199.00                   Wire Wheeler              53\n",
       "43949     53-7199.00                       Yarn Man              53\n",
       "43950     53-7199.00                    Yarn Worker              53\n",
       "\n",
       "[43951 rows x 3 columns]"
      ]
     },
     "execution_count": 46,
     "metadata": {},
     "output_type": "execute_result"
    }
   ],
   "source": [
    "onet_filtered"
   ]
  },
  {
   "cell_type": "code",
   "execution_count": null,
   "metadata": {},
   "outputs": [],
   "source": [
    "# transform the label data"
   ]
  },
  {
   "cell_type": "code",
   "execution_count": 33,
   "metadata": {},
   "outputs": [],
   "source": [
    "train_df['instruction'] = \"Categorize the job title into one of the 22 job families:\\n\\n11\\n13\\n15\\n17\\n19\\n21\\n23\\n25\\n27\\n29\\n31\\n33\\n35\\n37\\n39\\n41\\n43\\n45\\n47\\n49\\n51\\n53\\n\\n\""
   ]
  },
  {
   "cell_type": "code",
   "execution_count": null,
   "metadata": {},
   "outputs": [],
   "source": [
    "def reformat_train_test_df(dataframe, family_group=True):\n",
    "    dataframe.rename(columns={'Reported_Jobs':\"input\", \"Label\":\"output\"}, inplace=True)\n",
    "    dataframe['instruction'] = \"Categorize the job title into one of the 22 job families:\\n\\n11\\n13\\n15\\n17\\n19\\n21\\n23\\n25\\n27\\n29\\n31\\n33\\n35\\n37\\n39\\n41\\n43\\n45\\n47\\n49\\n51\\n53\\n\\n\"\n",
    "    "
   ]
  }
 ],
 "metadata": {
  "kernelspec": {
   "display_name": "resumeenv",
   "language": "python",
   "name": "python3"
  },
  "language_info": {
   "codemirror_mode": {
    "name": "ipython",
    "version": 3
   },
   "file_extension": ".py",
   "mimetype": "text/x-python",
   "name": "python",
   "nbconvert_exporter": "python",
   "pygments_lexer": "ipython3",
   "version": "3.10.12"
  },
  "orig_nbformat": 4
 },
 "nbformat": 4,
 "nbformat_minor": 2
}
