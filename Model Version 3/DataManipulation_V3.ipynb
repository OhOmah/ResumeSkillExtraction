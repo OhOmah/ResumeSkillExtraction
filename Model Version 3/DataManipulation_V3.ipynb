{
 "cells": [
  {
   "cell_type": "markdown",
   "metadata": {},
   "source": [
    "## PURPOSE OF THIS NOTEBOOK:  \n",
    "  \n",
    "This notebook takes in a dataframe and transforms the data to be a format that Llama expects. "
   ]
  },
  {
   "cell_type": "code",
   "execution_count": null,
   "metadata": {},
   "outputs": [],
   "source": []
  }
 ],
 "metadata": {
  "language_info": {
   "name": "python"
  },
  "orig_nbformat": 4
 },
 "nbformat": 4,
 "nbformat_minor": 2
}
