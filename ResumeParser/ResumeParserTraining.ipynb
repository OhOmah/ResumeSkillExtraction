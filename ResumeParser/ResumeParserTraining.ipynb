{
 "cells": [
  {
   "cell_type": "markdown",
   "metadata": {},
   "source": [
    "## PURPOSE OF THIS NOTEBOOK \n",
    "\n",
    "This notebook uses code from an article on training and building a Resume Parser. (found here: https://blog.apilayer.com/build-your-own-resume-parser-using-python-and-nlp/). This code is used to extract text from a .pdf, .docx, or .doc file. From there we use the find_job_titles libary to extract job titles from the raw text to send to the model. "
   ]
  },
  {
   "cell_type": "markdown",
   "metadata": {},
   "source": [
    "These lines of code will be made for the API. But placed here for proof of concept. "
   ]
  },
  {
   "cell_type": "code",
   "execution_count": 1,
   "metadata": {},
   "outputs": [],
   "source": [
    "from find_job_titles import FinderAcora"
   ]
  },
  {
   "cell_type": "code",
   "execution_count": 2,
   "metadata": {},
   "outputs": [],
   "source": [
    "finder = FinderAcora()"
   ]
  },
  {
   "cell_type": "code",
   "execution_count": 3,
   "metadata": {},
   "outputs": [
    {
     "data": {
      "text/plain": [
       "[Match(start=46, end=60, match='Science Intern')]"
      ]
     },
     "execution_count": 3,
     "metadata": {},
     "output_type": "execute_result"
    }
   ],
   "source": [
    "finder.findall(u'Family Promise of Spokane, Spokane, WA • Data Science Intern')"
   ]
  },
  {
   "cell_type": "code",
   "execution_count": 15,
   "metadata": {},
   "outputs": [],
   "source": [
    "from pdfminer.high_level import extract_text\n",
    " \n",
    " \n",
    "def extract_text_from_pdf(pdf_path):\n",
    "    return extract_text(pdf_path)\n",
    " "
   ]
  },
  {
   "cell_type": "code",
   "execution_count": 16,
   "metadata": {},
   "outputs": [],
   "source": [
    "text = extract_text_from_pdf(r'c:\\Users\\zaffa\\Downloads\\gonzalez_andres_resume0.pdf')"
   ]
  },
  {
   "cell_type": "code",
   "execution_count": 17,
   "metadata": {},
   "outputs": [
    {
     "data": {
      "text/plain": [
       "[Match(start=295, end=309, match='Cyber Security'),\n",
       " Match(start=449, end=470, match='Information Assurance'),\n",
       " Match(start=498, end=522, match='Software Engineer Intern'),\n",
       " Match(start=1058, end=1067, match='Part Time'),\n",
       " Match(start=1068, end=1085, match='Software Engineer'),\n",
       " Match(start=1094, end=1112, match='Integrity Engineer'),\n",
       " Match(start=1877, end=1888, match='Line Worker'),\n",
       " Match(start=2391, end=2410, match='Automotive Engineer')]"
      ]
     },
     "execution_count": 17,
     "metadata": {},
     "output_type": "execute_result"
    }
   ],
   "source": [
    "finder.findall(text)"
   ]
  },
  {
   "cell_type": "code",
   "execution_count": null,
   "metadata": {},
   "outputs": [],
   "source": []
  }
 ],
 "metadata": {
  "kernelspec": {
   "display_name": "ResumeExtract",
   "language": "python",
   "name": "python3"
  },
  "language_info": {
   "codemirror_mode": {
    "name": "ipython",
    "version": 3
   },
   "file_extension": ".py",
   "mimetype": "text/x-python",
   "name": "python",
   "nbconvert_exporter": "python",
   "pygments_lexer": "ipython3",
   "version": "3.11.5"
  },
  "orig_nbformat": 4
 },
 "nbformat": 4,
 "nbformat_minor": 2
}
